{
  "nbformat": 4,
  "nbformat_minor": 0,
  "metadata": {
    "colab": {
      "provenance": [],
      "gpuType": "T4",
      "authorship_tag": "ABX9TyMEulhN7TAVJJrMHH6zODFB",
      "include_colab_link": true
    },
    "kernelspec": {
      "name": "python3",
      "display_name": "Python 3"
    },
    "language_info": {
      "name": "python"
    },
    "accelerator": "GPU"
  },
  "cells": [
    {
      "cell_type": "markdown",
      "metadata": {
        "id": "view-in-github",
        "colab_type": "text"
      },
      "source": [
        "<a href=\"https://colab.research.google.com/github/Purity-asiko/Pree-Projects/blob/main/Image_Classification_with_TL.ipynb\" target=\"_parent\"><img src=\"https://colab.research.google.com/assets/colab-badge.svg\" alt=\"Open In Colab\"/></a>"
      ]
    },
    {
      "cell_type": "markdown",
      "source": [
        "Project Name: Image Classification with Transfer Learning (Cats vs. Dogs)\n",
        "\n",
        "Goal: Classify cat vs. dog images using VGG16 with transfer learning."
      ],
      "metadata": {
        "id": "lVzMDdpxOa-S"
      }
    },
    {
      "cell_type": "code",
      "execution_count": 8,
      "metadata": {
        "colab": {
          "base_uri": "https://localhost:8080/"
        },
        "id": "tlBGCH_2KgRH",
        "outputId": "df802e60-d131-446d-a654-9bbfeb349771"
      },
      "outputs": [
        {
          "output_type": "stream",
          "name": "stdout",
          "text": [
            "GPU Available: [PhysicalDevice(name='/physical_device:GPU:0', device_type='GPU')]\n"
          ]
        }
      ],
      "source": [
        "import tensorflow as tf\n",
        "print(\"GPU Available:\", tf.config.list_physical_devices('GPU'))"
      ]
    },
    {
      "cell_type": "code",
      "source": [
        "!pip install --quiet tensorflow tensorflow-datasets\n",
        "import tensorflow as tf\n",
        "from tensorflow.keras.applications import VGG16\n",
        "from tensorflow.keras.models import Sequential\n",
        "from tensorflow.keras.layers import Dense, Flatten, Dropout\n",
        "import tensorflow_datasets as tfds\n",
        "import matplotlib.pyplot as plt"
      ],
      "metadata": {
        "id": "lcMZhlcpKuP5"
      },
      "execution_count": 9,
      "outputs": []
    },
    {
      "cell_type": "code",
      "source": [
        "def preprocess_image(image, label):\n",
        "    image = tf.image.resize(image, [224, 224])\n",
        "    image = image / 255.0\n",
        "    return image, label\n",
        "\n",
        "try:\n",
        "    (ds_train, ds_test), ds_info = tfds.load('cats_vs_dogs', split=['train[:80%]', 'train[80%:]'],\n",
        "                                             with_info=True, as_supervised=True)\n",
        "    ds_train = ds_train.map(preprocess_image).batch(32).prefetch(tf.data.AUTOTUNE)\n",
        "    ds_test = ds_test.map(preprocess_image).batch(32).prefetch(tf.data.AUTOTUNE)\n",
        "except Exception as e:\n",
        "    print(\"Error loading dataset:\", e)"
      ],
      "metadata": {
        "id": "iwz7YpYcKwZg"
      },
      "execution_count": 10,
      "outputs": []
    },
    {
      "cell_type": "code",
      "source": [
        "try:\n",
        "    base_model = VGG16(weights='imagenet', include_top=False, input_shape=(224, 224, 3))\n",
        "    base_model.trainable = False\n",
        "    model = Sequential([\n",
        "        base_model,\n",
        "        Flatten(),\n",
        "        Dense(256, activation='relu'),\n",
        "        Dropout(0.5),\n",
        "        Dense(1, activation='sigmoid')\n",
        "    ])\n",
        "    model.compile(optimizer='adam', loss='binary_crossentropy', metrics=['accuracy'])\n",
        "except Exception as e:\n",
        "    print(\"Error building model:\", e)"
      ],
      "metadata": {
        "colab": {
          "base_uri": "https://localhost:8080/"
        },
        "id": "Z2OEWbwsLG3k",
        "outputId": "f6c0e34d-d6a7-4fda-b0f5-3e2f5e488ecd"
      },
      "execution_count": null,
      "outputs": [
        {
          "output_type": "stream",
          "name": "stdout",
          "text": [
            "Downloading data from https://storage.googleapis.com/tensorflow/keras-applications/vgg16/vgg16_weights_tf_dim_ordering_tf_kernels_notop.h5\n",
            "\u001b[1m58889256/58889256\u001b[0m \u001b[32m━━━━━━━━━━━━━━━━━━━━\u001b[0m\u001b[37m\u001b[0m \u001b[1m4s\u001b[0m 0us/step\n"
          ]
        }
      ]
    },
    {
      "cell_type": "code",
      "source": [
        "try:\n",
        "    history = model.fit(ds_train, epochs=3, validation_data=ds_test, verbose=1)\n",
        "except Exception as e:\n",
        "    print(\"Error during training:\", e)"
      ],
      "metadata": {
        "colab": {
          "base_uri": "https://localhost:8080/"
        },
        "id": "U0vtMVmQLLIa",
        "outputId": "15af007a-91e9-475d-ed9a-6c8c36be42b4"
      },
      "execution_count": 2,
      "outputs": [
        {
          "output_type": "stream",
          "name": "stdout",
          "text": [
            "Error during training: name 'model' is not defined\n"
          ]
        }
      ]
    },
    {
      "cell_type": "code",
      "source": [
        "try:\n",
        "    predictions = model.predict(X_test)\n",
        "    predictions = scaler.inverse_transform(predictions)\n",
        "    y_test_inv = scaler.inverse_transform(y_test)\n",
        "    plt.plot(y_test_inv, label='Actual Prices')\n",
        "    plt.plot(predictions, label='Predicted Prices')\n",
        "    plt.xlabel('Time')\n",
        "    plt.ylabel('Stock Price')\n",
        "    plt.legend()\n",
        "    plt.show()\n",
        "except Exception as e:\n",
        "    print(\"Error during evaluation:\", e)"
      ],
      "metadata": {
        "id": "toA304X4M9Oj",
        "outputId": "a2911afe-d03e-4eec-e4d1-1059e9ab48b7",
        "colab": {
          "base_uri": "https://localhost:8080/"
        }
      },
      "execution_count": 11,
      "outputs": [
        {
          "output_type": "stream",
          "name": "stdout",
          "text": [
            "Error during evaluation: name 'X_test' is not defined\n"
          ]
        }
      ]
    }
  ]
}